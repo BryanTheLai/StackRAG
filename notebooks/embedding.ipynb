{
 "cells": [
  {
   "cell_type": "code",
   "execution_count": 1,
   "id": "7411c947",
   "metadata": {},
   "outputs": [
    {
     "name": "stdout",
     "output_type": "stream",
     "text": [
      "Project root in sys.path: c:\\Users\\wbrya\\OneDrive\\Documents\\GitHub\\AI-CFO-FYP\n",
      "Current working directory: c:\\Users\\wbrya\\OneDrive\\Documents\\GitHub\\AI-CFO-FYP\\notebooks\n"
     ]
    }
   ],
   "source": [
    "# Add project root to sys.path so 'src' is importable\n",
    "import sys\n",
    "import os\n",
    "project_root = os.path.abspath(os.path.join(os.getcwd(), \"..\"))\n",
    "if project_root not in sys.path:\n",
    "    sys.path.insert(0, project_root)\n",
    "print(\"Project root in sys.path:\", project_root)\n",
    "print(\"Current working directory:\", os.getcwd())"
   ]
  },
  {
   "cell_type": "code",
   "execution_count": 2,
   "id": "54c48319",
   "metadata": {},
   "outputs": [
    {
     "name": "stdout",
     "output_type": "stream",
     "text": [
      "OpenAI API Key loaded: sk-...z-8A\n"
     ]
    }
   ],
   "source": [
    "# Cell 2: Load environment variables\n",
    "from dotenv import load_dotenv\n",
    "import os\n",
    "\n",
    "load_dotenv()\n",
    "\n",
    "# Verify the key is loaded (prints part of the key)\n",
    "openai_key = os.environ.get(\"OPENAI_API_KEY\")\n",
    "if openai_key:\n",
    "    print(f\"OpenAI API Key loaded: {openai_key[:3]}...{openai_key[-4:]}\")\n",
    "else:\n",
    "    print(\"OpenAI API Key not loaded. Please check your .env file.\")\n",
    "    # You might want to raise an error or stop here if the key is essential"
   ]
  },
  {
   "cell_type": "code",
   "execution_count": 3,
   "id": "0018f0bb",
   "metadata": {},
   "outputs": [
    {
     "name": "stdout",
     "output_type": "stream",
     "text": [
      "Initialized OpenAI client with model: text-embedding-3-small\n",
      "\n",
      "Attempting to get embeddings...\n",
      "Successfully generated 2 embeddings.\n",
      "Length of the first embedding: 1536\n",
      "First 10 dimensions of the first embedding: [0.022943295538425446, 0.02701064571738243, 0.03878304734826088, 0.03408554568886757, 0.0431368313729763, 0.02771240659058094, -0.028800852596759796, 0.019076447933912277, 0.01999303326010704, -0.003376330714672804]...\n",
      "Length of the second embedding: 1536\n",
      "First 10 dimensions of the second embedding: [0.024601895362138748, 0.021060355007648468, 0.05293421074748039, 0.009420495480298996, 0.015228619799017906, 0.023303329944610596, 0.0007732361555099487, 0.0009776124497875571, 0.01635010726749897, -0.021131185814738274]...\n"
     ]
    }
   ],
   "source": [
    "\n",
    "from src.llm.OpenAIClient import OpenAIClient\n",
    "\n",
    "try:\n",
    "    # Instantiate the client\n",
    "    openai_client = OpenAIClient()\n",
    "\n",
    "    # Prepare some text to embed\n",
    "    texts_to_embed = [\n",
    "        \"This is a sentence about financial performance.\",\n",
    "        \"Balance sheet assets and liabilities.\",\n",
    "    ]\n",
    "\n",
    "    print(\"\\nAttempting to get embeddings...\")\n",
    "\n",
    "    # Get embeddings\n",
    "    embeddings = openai_client.get_embeddings(texts_to_embed)\n",
    "\n",
    "    # Print results\n",
    "    print(f\"Successfully generated {len(embeddings)} embeddings.\")\n",
    "\n",
    "    # Check the first embedding\n",
    "    if embeddings:\n",
    "        print(f\"Length of the first embedding: {len(embeddings[0])}\")\n",
    "        print(f\"First 10 dimensions of the first embedding: {embeddings[0][:10]}...\")\n",
    "        print(f\"Length of the second embedding: {len(embeddings[1])}\")\n",
    "        print(f\"First 10 dimensions of the second embedding: {embeddings[1][:10]}...\")\n",
    "    else:\n",
    "        print(\"No embeddings were returned.\")\n",
    "\n",
    "except ValueError as e:\n",
    "    print(f\"Configuration Error: {e}\")\n",
    "except Exception as e:\n",
    "    print(f\"An error occurred during embedding: {e}\")"
   ]
  }
 ],
 "metadata": {
  "kernelspec": {
   "display_name": ".venv",
   "language": "python",
   "name": "python3"
  },
  "language_info": {
   "codemirror_mode": {
    "name": "ipython",
    "version": 3
   },
   "file_extension": ".py",
   "mimetype": "text/x-python",
   "name": "python",
   "nbconvert_exporter": "python",
   "pygments_lexer": "ipython3",
   "version": "3.12.9"
  }
 },
 "nbformat": 4,
 "nbformat_minor": 5
}
