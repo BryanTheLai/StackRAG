{
 "cells": [
  {
   "cell_type": "code",
   "execution_count": 1,
   "id": "17e00388",
   "metadata": {},
   "outputs": [
    {
     "name": "stdout",
     "output_type": "stream",
     "text": [
      "Project root in sys.path: c:\\Users\\wbrya\\OneDrive\\Documents\\GitHub\\AI-CFO-FYP\n",
      "Current working directory: c:\\Users\\wbrya\\OneDrive\\Documents\\GitHub\\AI-CFO-FYP\\notebooks\n"
     ]
    }
   ],
   "source": [
    "# Add project root to sys.path so 'src' is importable\n",
    "import sys\n",
    "import os\n",
    "project_root = os.path.abspath(os.path.join(os.getcwd(), \"..\"))\n",
    "if project_root not in sys.path:\n",
    "    sys.path.insert(0, project_root)\n",
    "print(\"Project root in sys.path:\", project_root)\n",
    "print(\"Current working directory:\", os.getcwd())"
   ]
  },
  {
   "cell_type": "code",
   "execution_count": 2,
   "id": "734ce524",
   "metadata": {},
   "outputs": [
    {
     "name": "stdout",
     "output_type": "stream",
     "text": [
      "You are an expert in the field being discussed.\n",
      "Explain concepts clearly and directly, and keeping things minimalistic.\n",
      "Use first principles thinking and analogies.\n",
      "Keep the structure logical and sequential.\n",
      "\n",
      "Use vocabulary and style matching the provided context.\n",
      "Use minimal amount of emojis and icons to make it easier to understand and interperate.\n"
     ]
    }
   ],
   "source": [
    "from src.prompts.prompt_manager import PromptManager\n",
    "\n",
    "GEMINI_CHAT_SYSTEM_PROMPT = PromptManager.get_prompt(\n",
    "        \"chat_system_prompt\"\n",
    "    )\n",
    "\n",
    "print(GEMINI_CHAT_SYSTEM_PROMPT)"
   ]
  }
 ],
 "metadata": {
  "kernelspec": {
   "display_name": ".venv",
   "language": "python",
   "name": "python3"
  },
  "language_info": {
   "codemirror_mode": {
    "name": "ipython",
    "version": 3
   },
   "file_extension": ".py",
   "mimetype": "text/x-python",
   "name": "python",
   "nbconvert_exporter": "python",
   "pygments_lexer": "ipython3",
   "version": "3.12.9"
  }
 },
 "nbformat": 4,
 "nbformat_minor": 5
}
