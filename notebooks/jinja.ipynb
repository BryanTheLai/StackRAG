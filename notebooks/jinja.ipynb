{
 "cells": [
  {
   "cell_type": "code",
   "execution_count": 1,
   "id": "17e00388",
   "metadata": {},
   "outputs": [
    {
     "name": "stdout",
     "output_type": "stream",
     "text": [
      "Project root in sys.path: c:\\Users\\wbrya\\OneDrive\\Documents\\GitHub\\AI-CFO-FYP\n",
      "Current working directory: c:\\Users\\wbrya\\OneDrive\\Documents\\GitHub\\AI-CFO-FYP\\notebooks\n"
     ]
    }
   ],
   "source": [
    "# Add project root to sys.path so 'src' is importable\n",
    "import sys\n",
    "import os\n",
    "project_root = os.path.abspath(os.path.join(os.getcwd(), \"..\"))\n",
    "if project_root not in sys.path:\n",
    "    sys.path.insert(0, project_root)\n",
    "print(\"Project root in sys.path:\", project_root)\n",
    "print(\"Current working directory:\", os.getcwd())"
   ]
  },
  {
   "cell_type": "code",
   "execution_count": 2,
   "id": "734ce524",
   "metadata": {},
   "outputs": [
    {
     "name": "stdout",
     "output_type": "stream",
     "text": [
      "\n",
      "You're an AI assistant named Emma, working for TechGear.\n",
      "Your goal is to analyze incoming helpdesk tickets and classify their intent.\n",
      "\n",
      "# CONTEXT\n",
      "You will be provided with the following information from a helpdesk ticket:\n",
      "- Sender: The name or identifier of the person who sent the ticket\n",
      "- Subject: The subject line of the ticket\n",
      "- Body: The main content of the ticket\n",
      "\n",
      "# TASK\n",
      "Your task is to analyze the ticket and determine its primary intent. You should also provide a confidence score for your classification and explain your reasoning.\n",
      "\n",
      "\n",
      "# ADDITIONAL CONTEXT FOR INTERNAL HELPDESK\n",
      "As this is an internal helpdesk ticket, consider the following:\n",
      "- The sender is a TechGear employee\n",
      "- Prioritize issues related to internal systems, software, or hardware\n",
      "- Be aware of potential sensitive or confidential information\n",
      "\n",
      "# INPUT\n",
      "New ticket: {}\n"
     ]
    }
   ],
   "source": [
    "from src.prompts.prompt_manager import PromptManager\n",
    "\n",
    "support_prompt = PromptManager.get_prompt(\n",
    "    \"ticket_analysis\", pipeline=\"helpdesk\", ticket={}\n",
    ")\n",
    "\n",
    "print(support_prompt)"
   ]
  }
 ],
 "metadata": {
  "kernelspec": {
   "display_name": ".venv",
   "language": "python",
   "name": "python3"
  },
  "language_info": {
   "codemirror_mode": {
    "name": "ipython",
    "version": 3
   },
   "file_extension": ".py",
   "mimetype": "text/x-python",
   "name": "python",
   "nbconvert_exporter": "python",
   "pygments_lexer": "ipython3",
   "version": "3.12.9"
  }
 },
 "nbformat": 4,
 "nbformat_minor": 5
}
