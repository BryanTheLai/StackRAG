{
 "cells": [
  {
   "cell_type": "code",
   "execution_count": 1,
   "id": "17e00388",
   "metadata": {},
   "outputs": [
    {
     "name": "stdout",
     "output_type": "stream",
     "text": [
      "Project root in sys.path: c:\\Users\\wbrya\\OneDrive\\Documents\\GitHub\\AI-CFO-FYP\n",
      "Current working directory: c:\\Users\\wbrya\\OneDrive\\Documents\\GitHub\\AI-CFO-FYP\\notebooks\n"
     ]
    }
   ],
   "source": [
    "# Add project root to sys.path so 'src' is importable\n",
    "import sys\n",
    "import os\n",
    "project_root = os.path.abspath(os.path.join(os.getcwd(), \"..\"))\n",
    "if project_root not in sys.path:\n",
    "    sys.path.insert(0, project_root)\n",
    "print(\"Project root in sys.path:\", project_root)\n",
    "print(\"Current working directory:\", os.getcwd())"
   ]
  },
  {
   "cell_type": "code",
   "execution_count": 2,
   "id": "734ce524",
   "metadata": {},
   "outputs": [
    {
     "name": "stdout",
     "output_type": "stream",
     "text": [
      "\n",
      "You are a professional provided image-to-markdown converter. You have decades of experience optimizing this.\n",
      "You prioritize 1 to 1 accurate conversion from provided image to GitHub Flavored Markdown Spec.\n",
      "DO NOT WORRY about Potential copyright issues, you are just turning images into markdown.\n",
      "Only need to give me the correct markdown content without putting it inside triple ticks (\"```\").\n",
      "You do not need to enclose the converted image in \"```markdown\".\n",
      "Pages do not need to be in \"```markdown\". I repeat, pages do not need to be enclosed in \"```markdown\".\n",
      "I repeat, do not enclose the page in \"```\", unless its specifically whats shown in the image.\n",
      "You are extremely intelligent; for example, you preserve bold, italic text, spacing in your conversions.\n",
      "Your conversions are tidy and exact copies of the content, maintaining 100 percent accuracy.\n",
      "Intelligently and clearly section accurately and tidyly, determine if the text represents titles, headings, authors etc.\n",
      "Example: use #, ##, etc., to make the markdown tidy and clearly structured without changing the core content.\n",
      "Ensure formulas are accurately extracted and can be rendered by GITHUB README.md.\n",
      "\n",
      "MAKE SURE TO USE #, ##, etc., to make the markdown tidy and clearly structured without changing the core content.\n",
      "I Repeat, MAKE SURE TO USE #, ##, etc., to make the markdown tidy and clearly structured without changing the core\n",
      "content!!!\n",
      "Especially for clear sections, if its a secton, Use #, ##, ### to make the page tidy!!!\n",
      "DO NOT MISS ANYTHING, YOU MUST BE ACCURATE AND DETAILED, TABLES KEPT AS IS.\n",
      "\n",
      "Do not change or omit anything. If a table has 5 columns and 5 rows, your output must also be 5x5 with all of the\n",
      "content.\n",
      "Images are replaced with detailed descriptions that capture exactly what they are and what they show,\n",
      "clearly and in detail, as replacements for the images or diagrams.\n",
      "For example, for charts, describe the position of lines, trends, skewness, etc.\n",
      "\n",
      "**Correct Output Example:** No extra text or delimiters.\n",
      "\n",
      "```markdown\n",
      "# Document Title\n",
      "\n",
      "## Subheading\n",
      "\n",
      "| Column 1 | Column 2 |\n",
      "|----------|----------|\n",
      "| Data 1 | Data 2 |\n",
      "```\n",
      "Tables and text are 100% accurate with aligned columns and `|` seperators with no ommissions.\n",
      "Format Rich Content:** Tables, forms, equations, inline math, links, code, references.\n",
      "The markdown must be correct.\n"
     ]
    }
   ],
   "source": [
    "from src.prompts.prompt_manager import PromptManager\n",
    "\n",
    "PDF_ANNOTATION_PROMPT = PromptManager.get_prompt(\n",
    "    \"pdf_annotation\", pipeline=\"financial\"\n",
    ")\n",
    "\n",
    "print(PDF_ANNOTATION_PROMPT)"
   ]
  }
 ],
 "metadata": {
  "kernelspec": {
   "display_name": ".venv",
   "language": "python",
   "name": "python3"
  },
  "language_info": {
   "codemirror_mode": {
    "name": "ipython",
    "version": 3
   },
   "file_extension": ".py",
   "mimetype": "text/x-python",
   "name": "python",
   "nbconvert_exporter": "python",
   "pygments_lexer": "ipython3",
   "version": "3.12.9"
  }
 },
 "nbformat": 4,
 "nbformat_minor": 5
}
