{
 "cells": [
  {
   "cell_type": "code",
   "execution_count": 1,
   "id": "b0bb6d03",
   "metadata": {},
   "outputs": [
    {
     "name": "stdout",
     "output_type": "stream",
     "text": [
      "Project root in sys.path: c:\\Users\\wbrya\\OneDrive\\Documents\\GitHub\\AI-CFO-FYP\n",
      "Current working directory: c:\\Users\\wbrya\\OneDrive\\Documents\\GitHub\\AI-CFO-FYP\\notebooks\n"
     ]
    }
   ],
   "source": [
    "# Add project root to sys.path so 'src' is importable\n",
    "import sys\n",
    "import os\n",
    "project_root = os.path.abspath(os.path.join(os.getcwd(), \"..\"))\n",
    "if project_root not in sys.path:\n",
    "    sys.path.insert(0, project_root)\n",
    "print(\"Project root in sys.path:\", project_root)\n",
    "print(\"Current working directory:\", os.getcwd())"
   ]
  },
  {
   "cell_type": "code",
   "execution_count": 2,
   "id": "950688c7",
   "metadata": {},
   "outputs": [
    {
     "name": "stdout",
     "output_type": "stream",
     "text": [
      "Gemini API Key loaded: AIz...KbyQ\n"
     ]
    }
   ],
   "source": [
    "# Cell 2: Load environment variables\n",
    "\n",
    "from dotenv import load_dotenv\n",
    "\n",
    "# Load variables from the .env file in the project root\n",
    "load_dotenv()\n",
    "\n",
    "# Verify the Gemini API key is loaded (required for MetadataExtractor)\n",
    "gemini_key = os.environ.get(\"GEMINI_API_KEY\")\n",
    "if gemini_key:\n",
    "    print(f\"Gemini API Key loaded: {gemini_key[:3]}...{gemini_key[-4:]}\")\n",
    "else:\n",
    "    print(\"Gemini API Key not loaded. MetadataExtractor will not work.\")\n",
    "    # In a real script, you'd handle this error properly.\n",
    "    # For this test, just acknowledge it."
   ]
  },
  {
   "cell_type": "code",
   "execution_count": 3,
   "id": "92ff947e",
   "metadata": {},
   "outputs": [
    {
     "name": "stdout",
     "output_type": "stream",
     "text": [
      "\n",
      "Attempting to instantiate clients...\n",
      "Initializing Gemini client with API key: AIz...yQ\n",
      "MetadataExtractor instantiated successfully.\n"
     ]
    }
   ],
   "source": [
    "# Cell 3: Import and Instantiate MetadataExtractor\n",
    "\n",
    "# Import the necessary classes from your src directory\n",
    "# Assuming src is in sys.path correctly now\n",
    "from src.llm.GeminiClient import GeminiClient\n",
    "from src.services.MetadataExtractor import MetadataExtractor\n",
    "\n",
    "print(\"\\nAttempting to instantiate clients...\")\n",
    "\n",
    "try:\n",
    "    # Instantiate GeminiClient first, as MetadataExtractor depends on it\n",
    "    gemini_client = GeminiClient()\n",
    "\n",
    "    # Instantiate MetadataExtractor\n",
    "    metadata_extractor = MetadataExtractor(gemini_client=gemini_client)\n",
    "\n",
    "    print(\"MetadataExtractor instantiated successfully.\")\n",
    "\n",
    "except ValueError as e:\n",
    "    print(f\"Configuration Error during instantiation: {e}\")\n",
    "except Exception as e:\n",
    "    print(f\"An unexpected error occurred during instantiation: {e}\")"
   ]
  },
  {
   "cell_type": "code",
   "execution_count": 4,
   "id": "67886718",
   "metadata": {},
   "outputs": [
    {
     "name": "stdout",
     "output_type": "stream",
     "text": [
      "\n",
      "Attempting to extract metadata from sample snippet...\n"
     ]
    }
   ],
   "source": [
    "# Cell 4: Prepare Sample Markdown Snippet and Test Extraction\n",
    "\n",
    "# Define a sample markdown snippet mimicking the start of a financial report\n",
    "# This snippet should contain information like report type, company name, date, year, quarter, summary\n",
    "from datetime import date\n",
    "\n",
    "\n",
    "sample_markdown_snippet = \"\"\"\n",
    "--- Page 1 Start ---\n",
    "\n",
    "# Annual Report 2023 - Acme Corporation\n",
    "\n",
    "## Executive Summary\n",
    "\n",
    "This Annual Report for the fiscal year ended December 31, 2023, provides a comprehensive overview of Acme Corporation's financial performance, strategic initiatives, and future outlook. Despite challenging market conditions, Acme achieved significant milestones, including a 15% increase in total revenue and a 20% improvement in net income.\n",
    "\n",
    "--- Page 1 End ---\n",
    "\n",
    "--- Page 2 Start ---\n",
    "\n",
    "## Table of Contents\n",
    "\n",
    "1. Executive Summary\n",
    "2. Financial Highlights\n",
    "3. Income Statement\n",
    "4. Balance Sheet\n",
    "... (rest of document markdown)\n",
    "\"\"\"\n",
    "\n",
    "print(\"\\nAttempting to extract metadata from sample snippet...\")"
   ]
  },
  {
   "cell_type": "code",
   "execution_count": 7,
   "id": "2951145e",
   "metadata": {},
   "outputs": [
    {
     "name": "stdout",
     "output_type": "stream",
     "text": [
      "Sending text snippet to LLM for structured metadata extraction...\n",
      "Structured metadata extraction attempted.\n",
      "\n",
      "--- Extracted Metadata ---\n",
      "Extraction successful. Result is a FinancialDocumentMetadata object.\n",
      "{\n",
      "    \"doc_specific_type\": \"Annual Report\",\n",
      "    \"company_name\": \"Acme Corporation\",\n",
      "    \"report_date\": \"2023-12-31\",\n",
      "    \"doc_year\": 2023,\n",
      "    \"doc_quarter\": 4,\n",
      "    \"doc_summary\": \"This Annual Report for the fiscal year ended December 31, 2023, provides a comprehensive overview of Acme Corporation's financial performance, strategic initiatives, and future outlook. Despite challenging market conditions, Acme achieved significant milestones, including a 15% increase in total revenue and a 20% improvement in net income.\"\n",
      "}\n",
      "Acme Corporation\n"
     ]
    }
   ],
   "source": [
    "import json\n",
    "from src.services.MetadataExtractor import FinancialDocumentMetadata\n",
    "\n",
    "\n",
    "extracted_data = metadata_extractor.extract_metadata(sample_markdown_snippet)\n",
    "\n",
    "print(\"\\n--- Extracted Metadata ---\")\n",
    "\n",
    "if isinstance(extracted_data, FinancialDocumentMetadata):\n",
    "    print(\"Extraction successful. Result is a FinancialDocumentMetadata object.\")\n",
    "    print(extracted_data.model_dump_json(indent=4))\n",
    "    print(extracted_data.company_name)\n",
    "\n",
    "else:\n",
    "    # This block should ideally not be hit if the AI and Pydantic work as expected\n",
    "    # given the constraints (no error handling in the service means no error dict returned)\n",
    "    print(\"Extraction did not return a FinancialDocumentMetadata object.\")\n",
    "    print(f\"Received type: {type(extracted_data)}\")\n",
    "    print(f\"Received data: {extracted_data}\")\n",
    "\n"
   ]
  }
 ],
 "metadata": {
  "kernelspec": {
   "display_name": ".venv",
   "language": "python",
   "name": "python3"
  },
  "language_info": {
   "codemirror_mode": {
    "name": "ipython",
    "version": 3
   },
   "file_extension": ".py",
   "mimetype": "text/x-python",
   "name": "python",
   "nbconvert_exporter": "python",
   "pygments_lexer": "ipython3",
   "version": "3.12.9"
  }
 },
 "nbformat": 4,
 "nbformat_minor": 5
}
