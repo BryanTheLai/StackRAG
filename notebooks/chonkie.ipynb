{
 "cells": [
  {
   "cell_type": "code",
   "execution_count": 1,
   "id": "8508ad78",
   "metadata": {},
   "outputs": [
    {
     "name": "stderr",
     "output_type": "stream",
     "text": [
      "c:\\Users\\wbrya\\OneDrive\\Documents\\GitHub\\AI-CFO-FYP\\.venv\\Lib\\site-packages\\tqdm\\auto.py:21: TqdmWarning: IProgress not found. Please update jupyter and ipywidgets. See https://ipywidgets.readthedocs.io/en/stable/user_install.html\n",
      "  from .autonotebook import tqdm as notebook_tqdm\n"
     ]
    }
   ],
   "source": [
    "from chonkie import RecursiveChunker\n",
    "\n",
    "chunker = RecursiveChunker.from_recipe(\n",
    "    \"markdown\",\n",
    "    lang=\"en\",\n",
    "    chunk_size=512,                 #Chunk max size.\n",
    "    min_characters_per_chunk=24,    # Prevent meaningless chunks like 1 word.\n",
    "    return_type=\"chunks\"            # Ensure we get the RecursiveChunk objects\n",
    ")\n",
    "\n",
    "text_simple = \"This is the first sentence. This is the second sentence. And here's a third one with some additional context.\"\n",
    "\n",
    "text_markdown = \"\"\"\n",
    "# Annual Report 2023\n",
    "\n",
    "## Section 1: Executive Summary\n",
    "\n",
    "This report summarizes the financial performance of the company for the fiscal year 2023. We saw significant growth in key areas.\n",
    "\n",
    "## Section 2: Financial Performance\n",
    "\n",
    "### Revenue Analysis\n",
    "\n",
    "Total revenue for 2023 reached $1.2 Billion, a 15% increase from $1.04 Billion in 2022. Growth was driven by strong performance in the SaaS division.\n",
    "\n",
    "| Quarter | Revenue ($M) | Growth (%) |\n",
    "|---------|--------------|------------|\n",
    "| Q1 2023 | 250          | 12         |\n",
    "| Q2 2023 | 290          | 14         |\n",
    "| Q3 2023 | 330          | 16         |\n",
    "| Q4 2023 | 380          | 18         |\n",
    "\n",
    "### Operating Expenses\n",
    "\n",
    "Operating expenses increased by 10%, primarily due to increased investment in R&D and marketing efforts to support future growth initiatives. R&D spending was $150 Million, while marketing was $200 Million.\n",
    "\n",
    "### Net Income\n",
    "\n",
    "Net income for the year was $200 Million, resulting in an earnings per share of $2.50. This represents a 20% improvement compared to the previous year.\n",
    "\"\"\""
   ]
  },
  {
   "cell_type": "code",
   "execution_count": 4,
   "id": "261cc7d4",
   "metadata": {},
   "outputs": [
    {
     "name": "stdout",
     "output_type": "stream",
     "text": [
      "Chunking texts...\n"
     ]
    },
    {
     "name": "stderr",
     "output_type": "stream",
     "text": [
      "🦛 choooooooooooooooooooonk 100% • 2/2 docs chunked [00:01<00:00,  1.45doc/s] 🌱"
     ]
    },
    {
     "name": "stdout",
     "output_type": "stream",
     "text": [
      "\n",
      "--------- Chunking Results ---------\n",
      "\n",
      "+++--- Document 1 ---+++\n",
      "Chunk 1:\n",
      "  Token count: 23\n",
      "  Level: 0\n",
      "  Text:\n",
      "---START CHUNK---\n",
      "This is the first sentence. This is the second sentence. And here's a third one with some additional context.\n",
      "---END CHUNK---\n",
      "\n",
      "\n",
      "+++--- Document 2 ---+++\n",
      "Chunk 1:\n",
      "  Token count: 314\n",
      "  Level: 0\n",
      "  Text:\n",
      "---START CHUNK---\n",
      "\n",
      "# Annual Report 2023\n",
      "\n",
      "## Section 1: Executive Summary\n",
      "\n",
      "This report summarizes the financial performance of the company for the fiscal year 2023. We saw significant growth in key areas.\n",
      "\n",
      "## Section 2: Financial Performance\n",
      "\n",
      "### Revenue Analysis\n",
      "\n",
      "Total revenue for 2023 reached $1.2 Billion, a 15% increase from $1.04 Billion in 2022. Growth was driven by strong performance in the SaaS division.\n",
      "\n",
      "| Quarter | Revenue ($M) | Growth (%) |\n",
      "|---------|--------------|------------|\n",
      "| Q1 2023 | 250          | 12         |\n",
      "| Q2 2023 | 290          | 14         |\n",
      "| Q3 2023 | 330          | 16         |\n",
      "| Q4 2023 | 380          | 18         |\n",
      "\n",
      "### Operating Expenses\n",
      "\n",
      "Operating expenses increased by 10%, primarily due to increased investment in R&D and marketing efforts to support future growth initiatives. R&D spending was $150 Million, while marketing was $200 Million.\n",
      "\n",
      "### Net Income\n",
      "\n",
      "Net income for the year was $200 Million, resulting in an earnings per share of $2.50. This represents a 20% improvement compared to the previous year.\n",
      "\n",
      "---END CHUNK---\n",
      "\n"
     ]
    },
    {
     "name": "stderr",
     "output_type": "stream",
     "text": [
      "\n"
     ]
    }
   ],
   "source": [
    "\n",
    "texts_to_chunk = [text_simple, text_markdown]\n",
    "\n",
    "print(\"Chunking texts...\")\n",
    "batch_chunks = chunker.chunk_batch(texts_to_chunk)\n",
    "\n",
    "print(\"\\n--------- Chunking Results ---------\")\n",
    "for doc_index, doc_chunks in enumerate(batch_chunks):\n",
    "    print(f\"\\n+++--- Document {doc_index + 1} ---+++\")\n",
    "    if not doc_chunks:\n",
    "        print(\"No chunks generated for this document.\")\n",
    "        continue\n",
    "\n",
    "    for i, chunk in enumerate(doc_chunks):\n",
    "        print(f\"Chunk {i+1}:\")\n",
    "        print(f\"  Token count: {chunk.token_count}\")\n",
    "        # RecursiveChunk objects have properties like start_index, end_index, level\n",
    "        print(f\"  Level: {chunk.level}\") # Level indicates the hierarchy (e.g., based on heading depth)\n",
    "        print(f\"  Text:\\n---START CHUNK---\\n{chunk.text}\\n---END CHUNK---\\n\")"
   ]
  }
 ],
 "metadata": {
  "kernelspec": {
   "display_name": ".venv",
   "language": "python",
   "name": "python3"
  },
  "language_info": {
   "codemirror_mode": {
    "name": "ipython",
    "version": 3
   },
   "file_extension": ".py",
   "mimetype": "text/x-python",
   "name": "python",
   "nbconvert_exporter": "python",
   "pygments_lexer": "ipython3",
   "version": "3.12.9"
  }
 },
 "nbformat": 4,
 "nbformat_minor": 5
}
