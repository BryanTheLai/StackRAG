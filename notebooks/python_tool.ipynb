{
 "cells": [
  {
   "cell_type": "code",
   "execution_count": null,
   "id": "5d0fbcb2",
   "metadata": {},
   "outputs": [],
   "source": []
  },
  {
   "cell_type": "code",
   "execution_count": null,
   "id": "e4c31b5a",
   "metadata": {},
   "outputs": [
    {
     "name": "stderr",
     "output_type": "stream",
     "text": [
      "WARNING:root:`automatic_function_calling.disable` is set to `True`. And `automatic_function_calling.maximum_remote_calls` is a positive number 10. Disabling automatic function calling. If you want to enable automatic function calling, please set `automatic_function_calling.disable` to `False` or leave it unset, and set `automatic_function_calling.maximum_remote_calls` to a positive integer or leave `automatic_function_calling.maximum_remote_calls` unset.\n"
     ]
    },
    {
     "name": "stdout",
     "output_type": "stream",
     "text": [
      "{\n",
      "    \"candidates\": [\n",
      "        {\n",
      "            \"content\": {\n",
      "                \"parts\": [\n",
      "                    {\n",
      "                        \"function_call\": {\n",
      "                            \"args\": {\n",
      "                                \"python_code\": \"\\nimport math\\n\\ndef is_prime(n):\\n    if n <= 1:\\n        return False\\n    for i in range(2, int(math.sqrt(n)) + 1):\\n        if n % i == 0:\\n            return False\\n    return True\\n\\nprimes = []\\nnum = 2\\nwhile len(primes) < 50:\\n    if is_prime(num):\\n        primes.append(num)\\n    num += 1\\n\\nsum_of_primes = sum(primes)\\ncalculation_result = str(sum_of_primes / 0.04215215)\\n\"\n",
      "                            },\n",
      "                            \"name\": \"execute_python_calculations\"\n",
      "                        }\n",
      "                    }\n",
      "                ],\n",
      "                \"role\": \"model\"\n",
      "            },\n",
      "            \"citation_metadata\": {\n",
      "                \"citations\": [\n",
      "                    {\n",
      "                        \"end_index\": 261,\n",
      "                        \"start_index\": 86,\n",
      "                        \"uri\": \"https://huggingface.co/datasets/GitBag/ultrainteract_largebatch_1_2_h_lr_3e-7_eta_1e1_555134_1726371380_eval\"\n",
      "                    }\n",
      "                ]\n",
      "            },\n",
      "            \"avg_logprobs\": -0.011806358496348063,\n",
      "            \"finish_reason\": \"STOP\"\n",
      "        }\n",
      "    ],\n",
      "    \"model_version\": \"gemini-2.0-flash\",\n",
      "    \"usage_metadata\": {\n",
      "        \"candidates_token_count\": 150,\n",
      "        \"prompt_token_count\": 262,\n",
      "        \"total_token_count\": 412\n",
      "    }\n",
      "}\n"
     ]
    }
   ],
   "source": [
    "\n",
    "import json\n",
    "import sys\n",
    "import os\n",
    "project_root = os.path.abspath(os.path.join(os.getcwd(), \"..\"))\n",
    "if project_root not in sys.path:\n",
    "     sys.path.insert(0, project_root)\n",
    "\n",
    "import os\n",
    "from google import genai\n",
    "from google.genai import types\n",
    "from src.llm.tools.PythonCalculatorTool import PythonCalculationTool\n",
    "\n",
    "# Define the function declaration for the model\n",
    "\n",
    "python_calculator_tool_local = PythonCalculationTool()\n",
    "client = genai.Client(api_key=os.getenv(\"GEMINI_API_KEY\"))\n",
    "python_calculator_decleration = python_calculator_tool_local.get_tool_declaration_data()\n",
    "\n",
    "# Define the function to execute the Python code\n",
    "execute_python_calculations = python_calculator_tool_local.execute_python_calculations\n",
    "all_tools_functions = [\n",
    "    execute_python_calculations,\n",
    "]\n",
    "\n",
    "# Define the function declaration for the model\n",
    "all_tools_decleration = [\n",
    "    types.Tool(function_declarations=[python_calculator_decleration])\n",
    "]\n",
    "\n",
    "config = {\n",
    "    \"tools\": all_tools_decleration,\n",
    "    \"automatic_function_calling\": {\"disable\": True},\n",
    "    #\"tool_config\": {\"function_calling_config\": {\"mode\": \"any\"}},\n",
    "}\n",
    "# Configure the client\n",
    "client = genai.Client(api_key=os.getenv(\"GEMINI_API_KEY\"))\n",
    "\n",
    "chat = client.chats.create(model=\"gemini-2.0-flash\", config=config)\n",
    "response = chat.send_message(\"What is the sum of the first 50 prime numbers? Generate and run code for the calculation, and make sure you get all 50. Then divide by 0.04215215\")\n",
    "print(json.dumps(response.to_json_dict(), indent=4))"
   ]
  },
  {
   "cell_type": "code",
   "execution_count": 7,
   "id": "b871996d",
   "metadata": {},
   "outputs": [
    {
     "name": "stdout",
     "output_type": "stream",
     "text": [
      "\n",
      "Function Name: execute_python_calculations\n",
      "\n",
      "\n",
      "Function Args: {'python_code': '\\nimport math\\n\\ndef is_prime(n):\\n    if n <= 1:\\n        return False\\n    for i in range(2, int(math.sqrt(n)) + 1):\\n        if n % i == 0:\\n            return False\\n    return True\\n\\nprimes = []\\nnum = 2\\nwhile len(primes) < 50:\\n    if is_prime(num):\\n        primes.append(num)\\n    num += 1\\n\\nsum_of_primes = sum(primes)\\ncalculation_result = str(sum_of_primes / 0.04215215)\\n'}\n",
      "\n",
      "Calculation Result:\n",
      "121393.57067195862\n"
     ]
    }
   ],
   "source": [
    "def call_function(function_call, functions):\n",
    "    function_name = function_call.name\n",
    "    print(f\"\\nFunction Name: {function_name}\\n\")\n",
    "    function_args = function_call.args\n",
    "    print(f\"\\nFunction Args: {function_args}\\n\")\n",
    "    for func in functions:\n",
    "        if func.__name__ == function_name:\n",
    "            return func(**function_args)\n",
    "\n",
    "part = response.candidates[-1].content.parts[-1]\n",
    "\n",
    "if part.function_call:\n",
    "    result = call_function(part.function_call, all_tools_functions)\n",
    "\n",
    "print(result)\n",
    "    "
   ]
  }
 ],
 "metadata": {
  "kernelspec": {
   "display_name": ".venv",
   "language": "python",
   "name": "python3"
  },
  "language_info": {
   "codemirror_mode": {
    "name": "ipython",
    "version": 3
   },
   "file_extension": ".py",
   "mimetype": "text/x-python",
   "name": "python",
   "nbconvert_exporter": "python",
   "pygments_lexer": "ipython3",
   "version": "3.12.9"
  }
 },
 "nbformat": 4,
 "nbformat_minor": 5
}
