{
 "cells": [
  {
   "cell_type": "code",
   "execution_count": 1,
   "id": "db54f9fd",
   "metadata": {},
   "outputs": [
    {
     "name": "stdout",
     "output_type": "stream",
     "text": [
      "Project root in sys.path: c:\\Users\\wbrya\\OneDrive\\Documents\\GitHub\\AI-CFO-FYP\n",
      "Current working directory: c:\\Users\\wbrya\\OneDrive\\Documents\\GitHub\\AI-CFO-FYP\\notebooks\n"
     ]
    }
   ],
   "source": [
    "# Add project root to sys.path so 'src' is importable\n",
    "import sys\n",
    "import os\n",
    "project_root = os.path.abspath(os.path.join(os.getcwd(), \"..\"))\n",
    "if project_root not in sys.path:\n",
    "    sys.path.insert(0, project_root)\n",
    "print(\"Project root in sys.path:\", project_root)\n",
    "print(\"Current working directory:\", os.getcwd())"
   ]
  },
  {
   "cell_type": "code",
   "execution_count": 2,
   "id": "adbf7682",
   "metadata": {},
   "outputs": [
    {
     "name": "stdout",
     "output_type": "stream",
     "text": [
      "Gemini API Key loaded: AIz...KbyQ\n"
     ]
    }
   ],
   "source": [
    "# Cell 5: Import necessary classes and modules\n",
    "import os\n",
    "from dotenv import load_dotenv\n",
    "import io # Import the io module for BytesIO\n",
    "\n",
    "# Assuming your src directory is installable with __init__.py files\n",
    "from src.llm.GeminiClient import GeminiClient\n",
    "from src.services.FinancialDocParser import FinancialDocParser\n",
    "\n",
    "# Load environment variables again (good practice in notebooks)\n",
    "load_dotenv()\n",
    "\n",
    "# Verify Gemini Key (Crucial for FinancialDocParser)\n",
    "gemini_key = os.environ.get(\"GEMINI_API_KEY\")\n",
    "if gemini_key:\n",
    "    print(f\"Gemini API Key loaded: {gemini_key[:3]}...{gemini_key[-4:]}\")\n",
    "else:\n",
    "    print(\"Gemini API Key not loaded. FinancialDocParser will likely fail.\")\n",
    "    # Consider stopping here if the key is missing"
   ]
  },
  {
   "cell_type": "code",
   "execution_count": null,
   "id": "6d57def5",
   "metadata": {},
   "outputs": [
    {
     "name": "stdout",
     "output_type": "stream",
     "text": [
      "Found test PDF: ../data/source_pdfs/invoice.pdf\n",
      "Initializing Gemini client with API key: AIz...yQ\n",
      "\n",
      "Processing PDF: ../data/source_pdfs/invoice.pdf\n",
      "PDF has 1 pages\n",
      "Rendering page 1/1\n",
      "Starting page annotation with max 1 concurrent workers...\n",
      "Page 1: Annotating (Attempt 1/6)\n"
     ]
    }
   ],
   "source": [
    "# Cell 6: Define PDF path and test FinancialDocParser\n",
    "\n",
    "# --- Configuration ---\n",
    "# Make sure this path points to your test PDF\n",
    "TEST_PDF_PATH = \"../data/source_pdfs/invoice.pdf\" # Adjust filename as needed\n",
    "# --- End Configuration ---\n",
    "\n",
    "# Check if the test PDF file exists\n",
    "if not os.path.exists(TEST_PDF_PATH):\n",
    "    print(f\"Error: Test PDF not found at {TEST_PDF_PATH}\")\n",
    "    print(\"Please update TEST_PDF_PATH to point to a valid PDF file in your data folder.\")\n",
    "else:\n",
    "    print(f\"Found test PDF: {TEST_PDF_PATH}\")\n",
    "    try:\n",
    "        # Instantiate GeminiClient (required by FinancialDocParser)\n",
    "        gemini_client = GeminiClient()\n",
    "\n",
    "        # Instantiate FinancialDocParser\n",
    "        doc_parser = FinancialDocParser(gemini_client=gemini_client)\n",
    "\n",
    "        # Open the PDF file in binary read mode and read into a buffer\n",
    "        with open(TEST_PDF_PATH, 'rb') as f:\n",
    "            pdf_buffer = io.BytesIO(f.read()) # Create a buffer from the file content\n",
    "\n",
    "        print(f\"\\nProcessing PDF: {TEST_PDF_PATH}\")\n",
    "\n",
    "        # Run the parser on the PDF buffer\n",
    "        parsing_result = doc_parser.parse_pdf_to_markdown(pdf_buffer)\n",
    "\n",
    "        # Print the results\n",
    "        print(\"\\n--- Parsing Result ---\")\n",
    "        if parsing_result.get(\"error\"):\n",
    "            print(f\"Parsing failed: {parsing_result['error']}\")\n",
    "        else:\n",
    "            print(f\"Parsing successful. Pages processed: {parsing_result.get('page_count')}\")\n",
    "            print(\"--- Combined Markdown Content ---\")\n",
    "            # Print only the first 1000 characters of the markdown to avoid flooding output\n",
    "            markdown_content = parsing_result.get('markdown_content', '')\n",
    "            print(markdown_content[:1000] + ('...' if len(markdown_content) > 1000 else ''))\n",
    "            print(\"-------------------------------\")\n",
    "            if len(markdown_content) > 1000:\n",
    "                 print(f\"(Full markdown content is {len(markdown_content)} characters long)\")\n",
    "\n",
    "\n",
    "    except ValueError as e:\n",
    "        print(f\"Configuration Error: {e}\") # e.g., API key missing\n",
    "    except Exception as e:\n",
    "        print(f\"An unexpected error occurred during PDF parsing test: {e}\")"
   ]
  }
 ],
 "metadata": {
  "kernelspec": {
   "display_name": ".venv",
   "language": "python",
   "name": "python3"
  },
  "language_info": {
   "codemirror_mode": {
    "name": "ipython",
    "version": 3
   },
   "file_extension": ".py",
   "mimetype": "text/x-python",
   "name": "python",
   "nbconvert_exporter": "python",
   "pygments_lexer": "ipython3",
   "version": "3.12.9"
  }
 },
 "nbformat": 4,
 "nbformat_minor": 5
}
