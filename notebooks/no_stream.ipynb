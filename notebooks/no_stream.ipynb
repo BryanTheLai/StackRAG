{
 "cells": [
  {
   "cell_type": "code",
   "execution_count": 1,
   "id": "c9063cff",
   "metadata": {},
   "outputs": [
    {
     "name": "stdout",
     "output_type": "stream",
     "text": [
      "Attempting to sign in with email: user@example.com\n",
      "Authentication successful. User ID: 372ec112-6fd7-46a7-bab4-abf7623fb05b\n"
     ]
    }
   ],
   "source": [
    "import sys\n",
    "import os\n",
    "project_root = os.path.abspath(os.path.join(os.getcwd(), \"..\"))\n",
    "if project_root not in sys.path:\n",
    "     sys.path.insert(0, project_root)\n",
    "\n",
    "import json\n",
    "from dotenv import load_dotenv\n",
    "load_dotenv()\n",
    "from supabase import create_client\n",
    "\n",
    "from src.llm.tools.ChunkRetriever import RetrievalService\n",
    "\n",
    "# ========== Constants and Environment Variables =========\n",
    "YOUR_APP_DOMAIN = \"www.stackifier.com\"\n",
    "TEST_EMAIL = os.environ.get(\"TEST_EMAIL\")\n",
    "TEST_PASSWORD = os.environ.get(\"TEST_PASSWORD\")\n",
    "if not TEST_EMAIL or not TEST_PASSWORD:\n",
    "    raise ValueError(\"TEST_EMAIL and TEST_PASSWORD must be set in your .env file.\")\n",
    "\n",
    "supabase_url = os.environ.get(\"SUPABASE_URL\")\n",
    "supabase_key = os.environ.get(\"SUPABASE_ANON_KEY\")\n",
    "if not supabase_url or not supabase_key:\n",
    "    raise ValueError(\"SUPABASE_URL and SUPABASE_ANON_KEY must be set in your .env file.\")\n",
    "\n",
    "auth_client_local = create_client(supabase_url, supabase_key)\n",
    "\n",
    "print(f\"Attempting to sign in with email: {TEST_EMAIL}\")\n",
    "auth_response = auth_client_local.auth.sign_in_with_password(\n",
    "    {\"email\": TEST_EMAIL, \"password\": TEST_PASSWORD}\n",
    ")\n",
    "if not auth_response or not auth_response.user:\n",
    "    error_detail = auth_response.error.message if hasattr(auth_response, 'error') and auth_response.error else \"Unknown authentication error\"\n",
    "    raise ConnectionError(f\"Supabase authentication failed: {error_detail}. Check credentials and Supabase Auth settings.\")\n",
    "authenticated_user_id_str_local = str(auth_response.user.id)\n",
    "print(f\"Authentication successful. User ID: {authenticated_user_id_str_local}\")\n",
    "\n",
    "user_given_id = authenticated_user_id_str_local"
   ]
  },
  {
   "cell_type": "code",
   "execution_count": null,
   "id": "d8ff1f08",
   "metadata": {},
   "outputs": [],
   "source": [
    "from typing import List\n",
    "from src.llm.GeminiClient import GeminiClient\n",
    "from src.llm.tools.FunctionCaller import call_function\n",
    "from src.llm.tools.PythonCalculatorTool import PythonCalculationTool\n",
    "from google.genai import types\n",
    "\n",
    "# Define the function declaration for the model\n",
    "python_calculator_tool_local = PythonCalculationTool()\n",
    "python_calculator_decleration = python_calculator_tool_local.get_tool_declaration_data()\n",
    "\n",
    "# Define the function to execute the Python code\n",
    "execute_python_calculations = python_calculator_tool_local.execute_python_calculations\n",
    "all_tools_functions = [\n",
    "    execute_python_calculations,\n",
    "]\n",
    "\n",
    "# Define the function declaration for the model\n",
    "all_tools_decleration = [\n",
    "    types.Tool(function_declarations=[python_calculator_decleration]),\n",
    "    types.Tool(function_declarations=[RetrievalService.get_tool_declaration()])\n",
    "]\n",
    "\n",
    "config = {\n",
    "    \"tools\": all_tools_decleration,\n",
    "    \"automatic_function_calling\": {\"disable\": True},\n",
    "    \"tool_config\": {\"function_calling_config\": {\"mode\": \"auto\"}},\n",
    "    \"thinking_config\": {\"include_thoughts\": True}\n",
    "}\n",
    "\n",
    "# prompt = \"Show me annual report of tesla in 2021?\" # \"sum first 50 prime numbers, then divide by 0.04215215\"\n",
    "prompt = \"Think first and use the retrieval tool. Whats the Gross Carrying Amount for Total intangible assets for tesla in 2021? then divide the value by 0.04215215\"\n",
    "CONV_HISTORY = []\n",
    "CONV_HISTORY.append(types.Content(role=\"user\", parts=[types.Part(text=prompt)]))\n",
    "print(f\"RAW:{CONV_HISTORY}\")\n",
    "for item in CONV_HISTORY:\n",
    "    print(item.model_dump_json(indent=4))\n",
    "client = GeminiClient(config=config)#, model=\"gemini-2.0-flash\")"
   ]
  },
  {
   "cell_type": "code",
   "execution_count": null,
   "id": "8c62d2e5",
   "metadata": {},
   "outputs": [],
   "source": [
    "from src.helper.llm_helper_chat import create_final_answer_instructions\n",
    "\n",
    "\n",
    "def get_parts(response):\n",
    "    return response.candidates[0].content.parts # includes thought and answer, parts size 2.\n",
    "example_supabase_id = \"372ec112-6fd7-46a7-bab4-abf7623fb05b\"\n",
    "\n",
    "# turn_count = 0\n",
    "# max_turns = 3\n",
    "# while turn_count < max_turns:\n",
    "#     turn_count += 1\n",
    "final_result = None\n",
    "\n",
    "response_no_stream = client.generate_content(\n",
    "        contents=CONV_HISTORY,\n",
    "    )\n",
    "parts = get_parts(response_no_stream)\n",
    "CONV_HISTORY.append(types.Content(role=\"model\", parts=parts))\n",
    "function_call = parts[-1].function_call\n",
    "function_result = None\n",
    "if function_call:\n",
    "    function_result = str(call_function(\n",
    "        function_call, \n",
    "        all_tools_functions, \n",
    "        user_supabase_id = example_supabase_id \n",
    "        )\n",
    "    )\n",
    "    function_response_part = types.Part.from_function_response(\n",
    "        name=function_call.name,\n",
    "        response={\"output\": function_result}\n",
    "    )\n",
    "    CONV_HISTORY.append(types.Content(role=\"model\", parts=[function_response_part]))\n",
    "    \n",
    "# Create final result:\n",
    "final_result_instructions = create_final_answer_instructions(prompt, function_result, YOUR_APP_DOMAIN)\n",
    "CONV_HISTORY.append(types.Content(role=\"user\", parts=[types.Part(text=final_result_instructions)]))\n",
    "response_no_stream = client.generate_content(\n",
    "        contents=CONV_HISTORY,\n",
    "    )\n",
    "parts = get_parts(response_no_stream)\n",
    "CONV_HISTORY.append(types.Content(role=\"user\", parts=parts))"
   ]
  },
  {
   "cell_type": "code",
   "execution_count": null,
   "id": "c97d13c0",
   "metadata": {},
   "outputs": [],
   "source": [
    "for item in CONV_HISTORY:\n",
    "    for part in parts:\n",
    "        print(\"----Part Start\\n\")\n",
    "        #print(part.model_dump_json(indent=4))\n",
    "        print(f\"text: {part.text}\")\n",
    "        if part.function_call:            \n",
    "            print(f\"function_call: {part.function_call.model_dump_json(indent=4)}\")\n",
    "        if part.function_response:\n",
    "            print(f\"function_response: {part.function_response.model_dump_json(indent=4)}\")\n",
    "        print(\"----Part End----------------------------------------------------------\")\n"
   ]
  },
  {
   "cell_type": "code",
   "execution_count": null,
   "id": "45d90bbd",
   "metadata": {},
   "outputs": [],
   "source": [
    "print(parts[-1].function_call)"
   ]
  },
  {
   "cell_type": "code",
   "execution_count": null,
   "id": "62b2fb8f",
   "metadata": {},
   "outputs": [],
   "source": [
    "if parts[-1].function_call:\n",
    "    result = str(call_function(\n",
    "        parts[-1].function_call, \n",
    "        all_tools_functions, \n",
    "        user_supabase_id = example_supabase_id \n",
    "        )\n",
    "    )\n",
    "    print(result)"
   ]
  },
  {
   "cell_type": "code",
   "execution_count": 9,
   "id": "ce7b46e1",
   "metadata": {},
   "outputs": [
    {
     "name": "stdout",
     "output_type": "stream",
     "text": [
      "[\n",
      "  {\"reasoning\": \"Find the Gross Carrying Amount for Total intangible assets for Tesla in 2021.\", \"task\": \"Tesla Total intangible assets Gross Carrying Amount 2021\"},\n",
      "  {\"reasoning\": \"Find the Gross Carrying Amount for Total intangible assets for Apple in 2021.\", \"task\": \"Apple Total intangible assets Gross Carrying Amount 2021\"}\n",
      "]\n"
     ]
    }
   ],
   "source": [
    "from google import genai\n",
    "from pydantic import BaseModel\n",
    "from src.prompts.prompt_manager import PromptManager\n",
    "QUERY_SPLITTER = PromptManager.get_prompt(\n",
    "        \"query_splitter\"\n",
    "    )\n",
    "\n",
    "class Split(BaseModel):\n",
    "    reasoning: str\n",
    "    task: str\n",
    "load_dotenv()\n",
    "client = genai.Client(api_key=os.environ.get(\"GEMINI_API_KEY\"))\n",
    "prompt = \"Think first and use the retrieval tool. Whats the Gross Carrying Amount for Total intangible assets for tesla and apple in 2021? then divide the value by 0.04215215\"\n",
    "response = client.models.generate_content(\n",
    "    model=\"gemini-2.0-flash\",\n",
    "    contents=prompt,\n",
    "    config={\n",
    "        \"response_mime_type\": \"application/json\",\n",
    "        \"response_schema\": list[Split],\n",
    "        \"system_instruction\" : QUERY_SPLITTER,\n",
    "    }\n",
    ")\n",
    "# Use the response as a JSON string.\n",
    "print(response.text)\n",
    "\n",
    "# Use instantiated objects.\n",
    "my_recipes: list[Split] = response.parsed"
   ]
  },
  {
   "cell_type": "code",
   "execution_count": null,
   "id": "56aca36d",
   "metadata": {},
   "outputs": [],
   "source": []
  }
 ],
 "metadata": {
  "kernelspec": {
   "display_name": ".venv",
   "language": "python",
   "name": "python3"
  },
  "language_info": {
   "codemirror_mode": {
    "name": "ipython",
    "version": 3
   },
   "file_extension": ".py",
   "mimetype": "text/x-python",
   "name": "python",
   "nbconvert_exporter": "python",
   "pygments_lexer": "ipython3",
   "version": "3.12.9"
  }
 },
 "nbformat": 4,
 "nbformat_minor": 5
}
